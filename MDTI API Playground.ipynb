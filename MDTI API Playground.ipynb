{
  "cells": [
    {
      "attachments": {},
      "cell_type": "markdown",
      "metadata": {},
      "source": [
        "***MDTI API Playground***\n",
        "\n",
        "This notebook is designed to help new users of the MDTI API become familiar with the different calls and rationale for those calls.  If you follow this notebook from start to finish it will lead you through the data gathering/scaling/correlation process you can use the API for.  This notebook is not an official Microsoft release and does not use the Python SDK as of this publishing.  This notebook is in no way intended to show best practices for python coding, any suggestions from the community are welcome.\n",
        "\n",
        "This notebook is pre-seeded with indicators and if followed from top to bottom will guide you through an info gathering process.  The process is broken down into this sequence:\n",
        "\n",
        "* Token access\n",
        "* Reputation lookup\n",
        "* Article review from reputation result\n",
        "* Listing indicators from the article\n",
        "* Review of the actor group from the article\n",
        "* Listing the indicators from the group profile\n",
        "* Review of the web components of multiple hosts\n",
        "* Analyzing an array of hosts for anything running a C2 (Command and Control server)\n",
        "* Pulling PDNS information and running the various domains through the reputation endpoint\n",
        "* Listing Trackers found on the array of hosts from the previous block\n",
        "\n",
        "This notebook currently does not use the reverseDNS endpoint and does not include unreleased endpoints as the API is still in public preview with more to come.  My hope is that this will familiarize you with the output from the API and allow you to hit the ground running for scaled investigations/data stacking.\n",
        "\n",
        "If you haven't yet setup your application, go here: https://techcommunity.microsoft.com/t5/microsoft-defender-threat/what-s-new-apis-in-microsoft-graph/ba-p/3780350\n",
        "\n",
        "I would suggest adding the base site to favorites: https://techcommunity.microsoft.com/t5/microsoft-defender-threat/bg-p/DefenderThreatIntelligence"
      ]
    },
    {
      "cell_type": "code",
      "execution_count": null,
      "metadata": {},
      "outputs": [],
      "source": [
        "# For this notebook your env will need pandas and msal installed via pip or from source if you prefer.  The client_secret.txt file should be in the same folder the notebook is running from or should have a specified filepath.\n",
        "\n",
        "%pip install pandas, msal"
      ]
    },
    {
      "attachments": {},
      "cell_type": "markdown",
      "metadata": {},
      "source": [
        "***Token Access***\n",
        "\n",
        "For those new to the MSFT graph API, you're going to work with tokens which will provide an hour of access at a time.  Below we will generate the token by filling out the client secret (in this case it's just a text file) and then the client and tenant ID's from your environment."
      ]
    },
    {
      "cell_type": "code",
      "execution_count": null,
      "metadata": {
        "gather": {
          "logged": 1686934361247
        },
        "jupyter": {
          "outputs_hidden": true
        }
      },
      "outputs": [],
      "source": [
        "\n",
        "import pandas as pd\n",
        "import os\n",
        "import requests\n",
        "import json\n",
        "\n",
        "# Read the client secret from a text file\n",
        "with open(\"client_secret.txt\", \"r\") as f:\n",
        "    client_secret = f.read().strip()\n",
        "\n",
        "# Set the client secret as an environment variable\n",
        "os.environ[\"CLIENT_SECRET\"] = client_secret\n",
        "\n",
        "from msal import ConfidentialClientApplication\n",
        "\n",
        "# Azure AD application credentials\n",
        "client_id = \"\"\n",
        "# If you are not using a secure string or key vault, you will need to un-comment the line below and add the secret there.\n",
        "# client_secret = \"\"\n",
        "tenant_id = \"\"\n",
        "\n",
        "\n",
        "# Create a ConfidentialClientApplication object\n",
        "app = ConfidentialClientApplication(\n",
        "    client_id=client_id,\n",
        "    client_credential=client_secret,\n",
        "    authority=f\"https://login.microsoftonline.com/{tenant_id}\",\n",
        ")\n",
        "\n",
        "# Get a token from Azure AD\n",
        "result = None\n",
        "scopes = [\"https://graph.microsoft.com/.default\"]\n",
        "result = app.acquire_token_silent(scopes=scopes, account=None)\n",
        "\n",
        "if not result:\n",
        "    result = app.acquire_token_for_client(scopes=scopes)\n",
        "\n",
        "# Get the access token\n",
        "access_token = result[\"access_token\"]\n",
        "\n",
        "# Print the access token\n",
        "print(\"Access Token:\", access_token)"
      ]
    },
    {
      "attachments": {},
      "cell_type": "markdown",
      "metadata": {
        "nteract": {
          "transient": {
            "deleting": false
          }
        }
      },
      "source": [
        "***Reputation***\n",
        "\n",
        "This block will accept domains/IPs in an array and pass them through to the reputation endpoint for analysis.  The resulting dataframe is setup to provide data from 2 separate JSON normalizations.  If you display a single dataframe from the list below, it will have nested JSON which will not display nicely so we combine the two for an easier viewing experience.  In the below example you have two IOCs which will provide some additional paths for us to take.\n",
        "\n",
        "You can use either domains or IPs within the array, this is easier for reputation lookups."
      ]
    },
    {
      "cell_type": "code",
      "execution_count": null,
      "metadata": {
        "gather": {
          "logged": 1686934367516
        },
        "jupyter": {
          "outputs_hidden": false,
          "source_hidden": false
        },
        "nteract": {
          "transient": {
            "deleting": false
          }
        }
      },
      "outputs": [],
      "source": [
        "pd.set_option('display.max_colwidth', 0)\n",
        "\n",
        "suspect_iocs = [\"162.33.178.162\", \"vanguard.om\"]\n",
        "headers = {\n",
        "    \"Authorization\": f\"Bearer {access_token}\",\n",
        "    \"Content-Type\": \"application/json\"\n",
        "}\n",
        "\n",
        "\n",
        "for ip in suspect_iocs:\n",
        "    services = f\"https://graph.microsoft.com/beta/security/threatIntelligence/hosts/\"+(ip)+'/reputation'\n",
        "    responseS = requests.get(services, headers=headers)\n",
        "    dataS = responseS.json()\n",
        "    dataframeS = pd.json_normalize(dataS)\n",
        "    dataframeSi = pd.json_normalize(dataS['rules'])\n",
        "    display(dataframeS[['@odata.context','score', 'classification']], dataframeSi)\n",
        "\n"
      ]
    },
    {
      "attachments": {},
      "cell_type": "markdown",
      "metadata": {
        "nteract": {
          "transient": {
            "deleting": false
          }
        }
      },
      "source": [
        "**Articles**\n",
        "\n",
        "In the above example we see that an article has been written to provide more context around the IOC we're looking up.  Below we can grab the article content for faster review and also below this block we can extract the IOCs which are attributed to this campaign."
      ]
    },
    {
      "cell_type": "code",
      "execution_count": null,
      "metadata": {
        "gather": {
          "logged": 1686934386537
        },
        "jupyter": {
          "outputs_hidden": false,
          "source_hidden": false
        },
        "nteract": {
          "transient": {
            "deleting": false
          }
        }
      },
      "outputs": [],
      "source": [
        "headers = {\n",
        "    \"Authorization\": f\"Bearer {access_token}\",\n",
        "    \"Content-Type\": \"application/json\"\n",
        "}\n",
        "\n",
        "article = '223703a9'\n",
        "\n",
        "article_lookup = f\"https://graph.microsoft.com/beta/security/threatIntelligence/articles/\"+(article)\n",
        "responseS = requests.get(article_lookup, headers=headers)\n",
        "dataA = responseS.json()\n",
        "dataframeA = pd.json_normalize(dataA)\n",
        "display(dataframeA)"
      ]
    },
    {
      "attachments": {},
      "cell_type": "markdown",
      "metadata": {
        "nteract": {
          "transient": {
            "deleting": false
          }
        }
      },
      "source": [
        "**Article Indicators**\n",
        "\n",
        "Following the thread for Volt Typhoon, can now extract the indicators observed to be in use by the group.\n",
        "\n",
        "This block will pull the indicators and types from an article, this could be passed to an array or uploaded into Sentinel's TI blade for further investigation for example.  The return is clipped down to two columns, you can explore all of the columns by removing the [[['artifact.id', 'artifact.kind']]] on the last line."
      ]
    },
    {
      "cell_type": "code",
      "execution_count": null,
      "metadata": {
        "gather": {
          "logged": 1686850342948
        },
        "jupyter": {
          "outputs_hidden": false,
          "source_hidden": false
        },
        "nteract": {
          "transient": {
            "deleting": false
          }
        }
      },
      "outputs": [],
      "source": [
        "headers = {\n",
        "    \"Authorization\": f\"Bearer {access_token}\",\n",
        "    \"Content-Type\": \"application/json\"\n",
        "}\n",
        "\n",
        "article = '223703a9'\n",
        "\n",
        "article_IOC = f\"https://graph.microsoft.com/beta/security/threatIntelligence/articles/\"+(article)+\"/indicators\"\n",
        "responseS = requests.get(article_IOC, headers=headers)\n",
        "dataA = responseS.json()\n",
        "dataframeA = pd.json_normalize(dataA['value'])\n",
        "display(dataframeA[['artifact.id', 'artifact.kind']])"
      ]
    },
    {
      "attachments": {},
      "cell_type": "markdown",
      "metadata": {},
      "source": [
        "***Group Info***\n",
        "\n",
        "Along side the indicators in an article are indicators and information for the groups themselves.  The next two blocks will help pull that info for review."
      ]
    },
    {
      "cell_type": "code",
      "execution_count": null,
      "metadata": {
        "gather": {
          "logged": 1686934447485
        },
        "jupyter": {
          "outputs_hidden": false,
          "source_hidden": false
        },
        "nteract": {
          "transient": {
            "deleting": false
          }
        }
      },
      "outputs": [],
      "source": [
        "pd.set_option('display.max_colwidth', 0)\n",
        "group_name = \"Volt Typhoon\"\n",
        "\n",
        "group_lookup = f\"https://graph.microsoft.com/beta/security/threatIntelligence/intelProfiles?$search=\"+(group_name)+\"\"\n",
        "responseGr = requests.get(group_lookup, headers=headers)\n",
        "dataGr = responseGr.json()\n",
        "dataframeGr = pd.json_normalize(dataGr['value'])\n",
        "    #dataframeT = dataframeT.drop(['id'], axis=1)     \n",
        "display(dataframeGr)"
      ]
    },
    {
      "attachments": {},
      "cell_type": "markdown",
      "metadata": {},
      "source": [
        "***Article IOCs***\n",
        "\n",
        "This will allow you to list the IOCs from the article which are not incldued in the article lookup"
      ]
    },
    {
      "cell_type": "code",
      "execution_count": null,
      "metadata": {
        "gather": {
          "logged": 1686934682331
        },
        "jupyter": {
          "outputs_hidden": false,
          "source_hidden": false
        },
        "nteract": {
          "transient": {
            "deleting": false
          }
        }
      },
      "outputs": [],
      "source": [
        "group_id = \"8fe93ebfb3a03fb94a92ac80847790f1d6cfa08f57b2bcebfad328a5c3e762cb\"\n",
        "\n",
        "groupIOC_lookup = f\"https://graph.microsoft.com/beta/security/threatIntelligence/intelProfiles/\"+(group_id)+\"/indicators\"\n",
        "responseGroupIOC = requests.get(groupIOC_lookup, headers=headers)\n",
        "dataGroupIOC = responseGroupIOC.json()\n",
        "dataframeGroupIOC = pd.json_normalize(dataGroupIOC['value'])\n",
        "#dataframeGroupIOC = dataframeGroupIOC.drop(['id', 'artifact.@odata.type'], axis=1)     \n",
        "display(dataframeGroupIOC)"
      ]
    },
    {
      "attachments": {},
      "cell_type": "markdown",
      "metadata": {
        "nteract": {
          "transient": {
            "deleting": false
          }
        }
      },
      "source": [
        "**Web Components**\n",
        "\n",
        "Web Components are vital to investigations, they allow us to map the services in use by our adversarial infrastructure.  This block will take an array of domains/IPs and return a cleaned up list of the components observed on each.  The .pop function is to remove the request ID from the returned information which isn't relevant to your investigation."
      ]
    },
    {
      "cell_type": "code",
      "execution_count": null,
      "metadata": {
        "gather": {
          "logged": 1686935880473
        },
        "jupyter": {
          "outputs_hidden": false,
          "source_hidden": false
        },
        "nteract": {
          "transient": {
            "deleting": false
          }
        }
      },
      "outputs": [],
      "source": [
        "pd.set_option('display.max_colwidth', 0)\n",
        "\n",
        "suspect_iocs = [\"64.52.80.63\",\"5.252.177.180\",\"193.149.189.224\",\"64.190.113.172\",\"64.52.80.209\",\"65.109.31.190\",\"45.128.156.46\",\"84.252.94.184\",\"192.240.116.106\",\"5.255.100.206\"]\n",
        "headers = {\n",
        "    \"Authorization\": f\"Bearer {access_token}\",\n",
        "    \"Content-Type\": \"application/json\"\n",
        "}\n",
        "for ip in suspect_iocs:\n",
        "\n",
        "    web_components = f\"https://graph.microsoft.com/beta/security/threatIntelligence/hosts/\"+(ip)+\"/components\"\n",
        "    responseS = requests.get(web_components, headers=headers)\n",
        "    dataP = responseS.json()\n",
        "    dataframeP = pd.json_normalize(dataP['value'])\n",
        "    dataframeP.pop('id')\n",
        "    display(dataframeP)"
      ]
    },
    {
      "attachments": {},
      "cell_type": "markdown",
      "metadata": {
        "nteract": {
          "transient": {
            "deleting": false
          }
        }
      },
      "source": [
        "***C2 Check***\n",
        "\n",
        "This code block will query for the presence of the Web Component Category \"Command and Control Server\".  This could easily be customized to look for anything of interest to the investigation, this is simply an example for category based search."
      ]
    },
    {
      "cell_type": "code",
      "execution_count": null,
      "metadata": {
        "gather": {
          "logged": 1686925617456
        },
        "jupyter": {
          "outputs_hidden": false,
          "source_hidden": false
        },
        "nteract": {
          "transient": {
            "deleting": false
          }
        }
      },
      "outputs": [],
      "source": [
        "pd.set_option('display.max_colwidth', 0)\n",
        "\n",
        "suspect_iocs = [\"64.52.80.63\",\"5.252.177.180\",\"193.149.189.224\",\"64.190.113.172\",\"64.52.80.209\",\"65.109.31.190\",\"45.128.156.46\",\"84.252.94.184\",\"192.240.116.106\",\"5.255.100.206\"]\n",
        "headers = {\n",
        "    \"Authorization\": f\"Bearer {access_token}\",\n",
        "    \"Content-Type\": \"application/json\"\n",
        "}\n",
        "for ip in suspect_iocs:\n",
        "\n",
        "    web_components = f\"https://graph.microsoft.com/beta/security/threatIntelligence/hosts/\"+(ip)+\"/components\"\n",
        "    responseS = requests.get(web_components, headers=headers)\n",
        "    dataP = responseS.json()\n",
        "    dataframeP = pd.json_normalize(dataP['value'])\n",
        "    dataframeP.pop('id')\n",
        "    cnc = (dataframeP[(dataframeP['category'] == 'Command and Control Server')])\n",
        "    if not cnc.empty:\n",
        "        display(cnc)\n",
        "    \n",
        "\n"
      ]
    },
    {
      "attachments": {},
      "cell_type": "markdown",
      "metadata": {
        "nteract": {
          "transient": {
            "deleting": false
          }
        }
      },
      "source": [
        "**PDNS Info** \n",
        "\n",
        "This snippet will allow you to pull PDNS hostnames from domains/IPs and run them through the reputation endpoint to learn what MDTI knows about them.  There is a commented line which will also look at the justification for the scoring.  You can uncomment that line to add in the additional information but be warned it could cause quite a lot of information to be returned if your array is large or the IP has many associated domains."
      ]
    },
    {
      "cell_type": "code",
      "execution_count": null,
      "metadata": {
        "gather": {
          "logged": 1686924995258
        },
        "jupyter": {
          "outputs_hidden": false,
          "source_hidden": false
        },
        "nteract": {
          "transient": {
            "deleting": false
          }
        }
      },
      "outputs": [],
      "source": [
        "pd.set_option('display.max_colwidth', 0)\n",
        "\n",
        "pdns_lookup = [\"64.52.80.63\",\"5.252.177.180\",\"193.149.189.224\",\"64.190.113.172\"]\n",
        "\n",
        "headers = {\n",
        "    \"Authorization\": f\"Bearer {access_token}\",\n",
        "    \"Content-Type\": \"application/json\"\n",
        "}\n",
        "for ip in pdns_lookup:\n",
        "\n",
        "    pdns = f\"https://graph.microsoft.com/beta/security/threatIntelligence/hosts/\"+(ip)+\"/passivedns\"\n",
        "    responsePDNS = requests.get(pdns, headers=headers)\n",
        "    dataP = responsePDNS.json()\n",
        "    dataframeP = pd.json_normalize(dataP['value'])\n",
        "    url = dataframeP['artifact.id'].values\n",
        "    #url = dataframeP.drop(['id', 'firstSeenDateTime', 'lastSeenDateTime', 'collectedDateTime', 'recordType', 'parentHost.id', 'artifact.@odata.type'], axis=1).values\n",
        "    \n",
        "\n",
        "    for url1 in url:\n",
        "        servicesURL = f\"https://graph.microsoft.com/beta/security/threatIntelligence/hosts/\"+(url1)+'/reputation'\n",
        "        responseURL = requests.get(servicesURL, headers=headers)\n",
        "        dataS = responseURL.json()\n",
        "        dataframeS = pd.json_normalize(dataS)\n",
        "        #dataframeSi = pd.json_normalize(dataS['rules'])\n",
        "        display(dataframeS[['@odata.context','score', 'classification']])\n",
        "        #display(dataframeS[['@odata.context','score', 'classification']], dataframeSi)"
      ]
    },
    {
      "attachments": {},
      "cell_type": "markdown",
      "metadata": {
        "nteract": {
          "transient": {
            "deleting": false
          }
        }
      },
      "source": [
        "***Trackers***\n",
        "\n",
        "Trackers are embedded in web pages and can be google analytic IDs, Jarm Hashes, Facebook IDs, etc.  An example of where this is helpful is determining if a site may have rogue javascript injected or if a group of sites are using a custom javascript which can link the actors infrastructure together."
      ]
    },
    {
      "cell_type": "code",
      "execution_count": null,
      "metadata": {
        "gather": {
          "logged": 1686929336291
        },
        "jupyter": {
          "outputs_hidden": false,
          "source_hidden": false
        },
        "nteract": {
          "transient": {
            "deleting": false
          }
        }
      },
      "outputs": [],
      "source": [
        "pd.set_option('display.max_colwidth', 0)\n",
        "\n",
        "for ip in pdns_lookup:\n",
        "    trackers = f\"https://graph.microsoft.com/beta/security/threatIntelligence/hosts/\"+(ip)+\"/trackers?count=true\"\n",
        "    responseT = requests.get(trackers, headers=headers)\n",
        "    dataT = responseT.json()\n",
        "    dataframeT = pd.DataFrame(dataT['value'])\n",
        "    #dataframeT = dataframeT.drop(['id'], axis=1)     \n",
        "    display(dataframeT)"
      ]
    }
  ],
  "metadata": {
    "kernel_info": {
      "name": "python3-azureml"
    },
    "kernelspec": {
      "display_name": "Python 3.6 - AzureML",
      "language": "python",
      "name": "python3-azureml"
    },
    "language_info": {
      "codemirror_mode": {
        "name": "ipython",
        "version": 3
      },
      "file_extension": ".py",
      "mimetype": "text/x-python",
      "name": "python",
      "nbconvert_exporter": "python",
      "pygments_lexer": "ipython3",
      "version": "3.6.9"
    },
    "microsoft": {
      "host": {
        "AzureML": {
          "notebookHasBeenCompleted": true
        }
      },
      "ms_spell_check": {
        "ms_ignore_dictionary": [
          "dataframe"
        ],
        "ms_spell_check_language": "en"
      }
    },
    "nteract": {
      "version": "nteract-front-end@1.0.0"
    }
  },
  "nbformat": 4,
  "nbformat_minor": 2
}
